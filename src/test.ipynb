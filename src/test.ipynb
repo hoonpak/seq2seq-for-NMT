{
 "cells": [
  {
   "cell_type": "code",
   "execution_count": 2,
   "metadata": {},
   "outputs": [],
   "source": [
    "import utils"
   ]
  },
  {
   "cell_type": "code",
   "execution_count": 3,
   "metadata": {},
   "outputs": [
    {
     "name": "stdout",
     "output_type": "stream",
     "text": [
      "Load src dictionaries...\n"
     ]
    },
    {
     "name": "stderr",
     "output_type": "stream",
     "text": [
      "100%|██████████| 2661/2661 [00:00<00:00, 173168.29it/s]\n"
     ]
    },
    {
     "name": "stdout",
     "output_type": "stream",
     "text": [
      "Load tgt dictionaries...\n"
     ]
    },
    {
     "name": "stderr",
     "output_type": "stream",
     "text": [
      "100%|██████████| 2661/2661 [00:00<00:00, 104195.85it/s]\n"
     ]
    }
   ],
   "source": [
    "test_src_path = \"../dataset/test/test_en_2014.txt\"\n",
    "test_tgt_path = \"../dataset/test/test_de_2014.txt\"\n",
    "\n",
    "test_data = utils.PrepareData(src_path = test_src_path, tgt_path = test_tgt_path, is_train = True)"
   ]
  },
  {
   "cell_type": "code",
   "execution_count": 4,
   "metadata": {},
   "outputs": [],
   "source": [
    "ddd = utils.CustomDataset(src = test_data.filtered_src, tgt = test_data.filtered_tgt, src_word2id = test_data.src_word2id, tgt_word2id = test_data.tgt_word2id, is_reverse = False)"
   ]
  },
  {
   "cell_type": "code",
   "execution_count": 5,
   "metadata": {},
   "outputs": [
    {
     "data": {
      "text/plain": [
       "[tensor([   2, 4295, 1364,  995,   11, 2173, 1689,  996,  183,    7,  388,   38,\n",
       "         2174,  997,    6,    3,    0,    0,    0,    0,    0,    0,    0,    0,\n",
       "            0,    0,    0,    0,    0,    0,    0,    0,    0,    0,    0,    0,\n",
       "            0,    0,    0,    0,    0,    0,    0,    0,    0,    0,    0,    0,\n",
       "            0,    0,    0,    0]),\n",
       " 16,\n",
       " tensor([   2, 2506, 1035,  725,    8, 4296, 1313,  726,  341,  541, 4297, 1315,\n",
       "          365,    5,    3,    0,    0,    0,    0,    0,    0,    0,    0,    0,\n",
       "            0,    0,    0,    0,    0,    0,    0,    0,    0,    0,    0,    0,\n",
       "            0,    0,    0,    0,    0,    0,    0,    0,    0,    0,    0,    0,\n",
       "            0,    0,    0,    0])]"
      ]
     },
     "execution_count": 5,
     "metadata": {},
     "output_type": "execute_result"
    }
   ],
   "source": [
    "ddd.__getitem__(1)"
   ]
  },
  {
   "cell_type": "code",
   "execution_count": 6,
   "metadata": {},
   "outputs": [],
   "source": [
    "def get_tokenized_sen(sen, word2id, is_reverse):\n",
    "    \n",
    "    tokenized_sen = [2] #<s>\n",
    "        \n",
    "    for token in sen.split():\n",
    "        token = token.lower() #\n",
    "        if token in word2id:\n",
    "            tokenized_sen.append(word2id[token])\n",
    "        else:\n",
    "            tokenized_sen.append(1) #<unk>\n",
    "    tokenized_sen.append(3) #</s>\n",
    "    \n",
    "    if is_reverse:\n",
    "        tokenized_sen = list(reversed(tokenized_sen))\n",
    "            \n",
    "    return tokenized_sen"
   ]
  },
  {
   "cell_type": "code",
   "execution_count": 7,
   "metadata": {},
   "outputs": [
    {
     "data": {
      "text/plain": [
       "[3, 70, 247, 771, 164, 996, 1689, 11, 995, 1364, 2]"
      ]
     },
     "execution_count": 7,
     "metadata": {},
     "output_type": "execute_result"
    }
   ],
   "source": [
    "get_tokenized_sen(ddd.src[0],ddd.src_word2id, True)"
   ]
  },
  {
   "cell_type": "code",
   "execution_count": 8,
   "metadata": {},
   "outputs": [
    {
     "data": {
      "text/plain": [
       "[2, 1364, 995, 11, 1689, 996, 164, 771, 247, 70, 3]"
      ]
     },
     "execution_count": 8,
     "metadata": {},
     "output_type": "execute_result"
    }
   ],
   "source": [
    "get_tokenized_sen(ddd.src[0],ddd.src_word2id, False)"
   ]
  },
  {
   "cell_type": "code",
   "execution_count": null,
   "metadata": {},
   "outputs": [],
   "source": []
  }
 ],
 "metadata": {
  "kernelspec": {
   "display_name": "cnn",
   "language": "python",
   "name": "python3"
  },
  "language_info": {
   "codemirror_mode": {
    "name": "ipython",
    "version": 3
   },
   "file_extension": ".py",
   "mimetype": "text/x-python",
   "name": "python",
   "nbconvert_exporter": "python",
   "pygments_lexer": "ipython3",
   "version": "3.10.13"
  }
 },
 "nbformat": 4,
 "nbformat_minor": 2
}
